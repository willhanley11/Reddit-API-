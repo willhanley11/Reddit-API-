{
 "cells": [
  {
   "cell_type": "code",
   "execution_count": 396,
   "metadata": {},
   "outputs": [],
   "source": [
    "import pandas as pd\n",
    "import numpy as np\n",
    "import matplotlib.pyplot as plt\n",
    "import requests\n",
    "import pandas as pd\n",
    "import matplotlib.pyplot as plt\n",
    "import seaborn as sns\n",
    "from sklearn.model_selection import train_test_split, GridSearchCV, cross_val_score\n",
    "from sklearn.pipeline import Pipeline\n",
    "from sklearn.naive_bayes import MultinomialNB\n",
    "from sklearn.linear_model import LogisticRegression\n",
    "from sklearn.metrics import confusion_matrix, plot_confusion_matrix, accuracy_score\n",
    "from sklearn.feature_extraction.text import CountVectorizer, TfidfVectorizer\n",
    "import time\n",
    "from sklearn.ensemble import RandomForestClassifier, ExtraTreesClassifier"
   ]
  },
  {
   "cell_type": "markdown",
   "metadata": {},
   "source": [
    "# Reddit API pull to create Dataframe "
   ]
  },
  {
   "cell_type": "code",
   "execution_count": 177,
   "metadata": {},
   "outputs": [],
   "source": [
    "# Use Reddit API to request the submissions from 2 different subreddits. \n",
    "# Function takes the subreddit name and the number of posts wanted (in returns of 100 posts).\n",
    "\n",
    "def reddit_scannerZ(subreddit, number_posts):\n",
    "    \n",
    "    # Empty list to append the scrapes\n",
    "    mega = []\n",
    "    \n",
    "    # URL from the reddit api\n",
    "    url = 'https://api.pushshift.io/reddit/search/submission'\n",
    "    \n",
    "    # Starting point for date of scrape\n",
    "    new = 1606338449\n",
    "    \n",
    "    # Loop that runs for the number of posts wanted\n",
    "    for i in range(number_posts):\n",
    "        \n",
    "        # params for the scape (name, number of posts (max: 100), and date)\n",
    "        params = {'subreddit' : subreddit,\n",
    "             'size' : 100,\n",
    "             'before': new}\n",
    "        \n",
    "        # Use requests to scrape API \n",
    "        pull = requests.get(url, params).json()\n",
    "        \n",
    "        # Create new date from which the posts will come\n",
    "        new = pull['data'][-1]['created_utc']\n",
    "        \n",
    "        # Append dataframe of requests taking only the subreddit and post\n",
    "        mega.append(pd.DataFrame(pull['data'])[['subreddit','title']])\n",
    "        \n",
    "        # Wait 2 seconds before looping again\n",
    "        time.sleep(2)\n",
    "        \n",
    "    # Return concatinated dataframe    \n",
    "    return pd.concat(mega).reset_index()"
   ]
  },
  {
   "cell_type": "code",
   "execution_count": 178,
   "metadata": {},
   "outputs": [],
   "source": [
    "# Call function on 'not the onion' subreddit and 50 pulls (5000 posts)\n",
    "not_onion = reddit_scannerZ('nottheonion',50)\n",
    "\n",
    "# Drop the old index \n",
    "not_onion = not_onion.drop(columns='index')\n",
    "\n",
    "# Call function on 'the onion' subreddit and 50 pulls (5000 posts)\n",
    "onion = reddit_scannerZ('theonion', 50)\n",
    "\n",
    "# Drop the old index \n",
    "onion = onion.drop(columns='index')\n",
    "\n",
    "# Join both dataframes together\n",
    "onions = pd.concat([onion, not_onion])\n",
    "\n",
    "# Set 'the onion' to 1 and 'not the onion' to 0 for modeling (Binarize)\n",
    "onions['subreddit'] = onions['subreddit'].map({'nottheonion': 0, 'TheOnion': 1})\n",
    "\n",
    "# Drop rows that contain 'trump' and 'onion'\n",
    "onions = onions[onions['title'].str.contains('onion') == False]\n",
    "onions = onions[onions['title'].str.contains('Trump') == False]\n",
    "\n",
    "# Save as CSV\n",
    "onions.to_csv('onions.csv', index=False)"
   ]
  },
  {
   "cell_type": "markdown",
   "metadata": {},
   "source": [
    "# Pre-processing"
   ]
  },
  {
   "cell_type": "code",
   "execution_count": 776,
   "metadata": {},
   "outputs": [
    {
     "data": {
      "text/html": [
       "<div>\n",
       "<style scoped>\n",
       "    .dataframe tbody tr th:only-of-type {\n",
       "        vertical-align: middle;\n",
       "    }\n",
       "\n",
       "    .dataframe tbody tr th {\n",
       "        vertical-align: top;\n",
       "    }\n",
       "\n",
       "    .dataframe thead th {\n",
       "        text-align: right;\n",
       "    }\n",
       "</style>\n",
       "<table border=\"1\" class=\"dataframe\">\n",
       "  <thead>\n",
       "    <tr style=\"text-align: right;\">\n",
       "      <th></th>\n",
       "      <th>subreddit</th>\n",
       "      <th>title</th>\n",
       "    </tr>\n",
       "  </thead>\n",
       "  <tbody>\n",
       "    <tr>\n",
       "      <th>215</th>\n",
       "      <td>1</td>\n",
       "      <td>Microsoft Has Revealed Master Chief’s Teeth And They Are Filthy</td>\n",
       "    </tr>\n",
       "    <tr>\n",
       "      <th>3370</th>\n",
       "      <td>1</td>\n",
       "      <td>Facebook Users Morbidly Curious What Site Going To Do With Their Personal Data To Recoup $5 Billion Fine</td>\n",
       "    </tr>\n",
       "    <tr>\n",
       "      <th>7533</th>\n",
       "      <td>0</td>\n",
       "      <td>Tom Cruise’s Anti-Aging Hack Isn’t Botox — It’s a Nightingale Poo Facial</td>\n",
       "    </tr>\n",
       "    <tr>\n",
       "      <th>5304</th>\n",
       "      <td>0</td>\n",
       "      <td>Whatever It Is, It's Not Hair Dye: Hairdressers Weigh in on Rudy Giuliani's Drip Problem</td>\n",
       "    </tr>\n",
       "    <tr>\n",
       "      <th>5880</th>\n",
       "      <td>0</td>\n",
       "      <td>29-0 loss reopens debate on women's football in Brazil</td>\n",
       "    </tr>\n",
       "  </tbody>\n",
       "</table>\n",
       "</div>"
      ],
      "text/plain": [
       "      subreddit  \\\n",
       "215           1   \n",
       "3370          1   \n",
       "7533          0   \n",
       "5304          0   \n",
       "5880          0   \n",
       "\n",
       "                                                                                                         title  \n",
       "215                                            Microsoft Has Revealed Master Chief’s Teeth And They Are Filthy  \n",
       "3370  Facebook Users Morbidly Curious What Site Going To Do With Their Personal Data To Recoup $5 Billion Fine  \n",
       "7533                                  Tom Cruise’s Anti-Aging Hack Isn’t Botox — It’s a Nightingale Poo Facial  \n",
       "5304                  Whatever It Is, It's Not Hair Dye: Hairdressers Weigh in on Rudy Giuliani's Drip Problem  \n",
       "5880                                                    29-0 loss reopens debate on women's football in Brazil  "
      ]
     },
     "execution_count": 776,
     "metadata": {},
     "output_type": "execute_result"
    }
   ],
   "source": [
    "# Read in CSV\n",
    "onions = pd.read_csv('onions.csv')\n",
    "\n",
    "# Sample of 5 rows\n",
    "onions.sample(5)"
   ]
  },
  {
   "cell_type": "code",
   "execution_count": 774,
   "metadata": {},
   "outputs": [
    {
     "data": {
      "image/png": "[encoded data removed]",
      "text/plain": [
       "<Figure size 1152x576 with 1 Axes>"
      ]
     },
     "metadata": {
      "needs_background": "light"
     },
     "output_type": "display_data"
    }
   ],
   "source": [
    "# basic count vectorizer to see the most common words \n",
    "cv = CountVectorizer(stop_words='english')\n",
    "cv.fit(onions['title'])\n",
    "X = cv.transform(onions['title'])\n",
    "df = pd.DataFrame(X.todense(), columns=cv.get_feature_names())\n",
    "\n",
    "# Plot most frequently found words in the dataframe\n",
    "plt.figure(figsize=(16,8))\n",
    "df.sum().sort_values(ascending=False).head(15).plot(kind='barh')\n",
    "\n",
    "plt.xlabel('Number of Occurences',size=12)\n",
    "plt.ylabel('Word', size=12);\n",
    "\n",
    "plt.title('Most Frequent Words', size =20);"
   ]
  },
  {
   "cell_type": "markdown",
   "metadata": {},
   "source": [
    "# Countvectorizer - Logistic Regression Estimator"
   ]
  },
  {
   "cell_type": "code",
   "execution_count": 780,
   "metadata": {},
   "outputs": [
    {
     "name": "stdout",
     "output_type": "stream",
     "text": [
      "The baseline score to beat was 0.524\n",
      "The train accuracy score is 0.966\n",
      "The test accuracy score is 0.835\n"
     ]
    },
    {
     "data": {
      "image/png": "[encoded data removed]",
      "text/plain": [
       "<Figure size 432x288 with 2 Axes>"
      ]
     },
     "metadata": {
      "needs_background": "light"
     },
     "output_type": "display_data"
    }
   ],
   "source": [
    "# set up X and y for modeling. y will be our target which is the subreddit from where the post came from.\n",
    "X= onions['title']\n",
    "\n",
    "y = onions['subreddit']\n",
    "\n",
    "# Train test split the data\n",
    "X_train, X_test, y_train, y_test = train_test_split(X,\n",
    "                                                    y,\n",
    "                                                    stratify=y,\n",
    "                                                    random_state=99, test_size = .25)\n",
    "\n",
    "# set up pipeline for the transformer and estimator\n",
    "pipe = Pipeline([\n",
    "    ('cvec', CountVectorizer()),\n",
    "    ('lr', LogisticRegression())])\n",
    "\n",
    "# pipeline parameters that we will Gridsearch over\n",
    "pipe_params = {\n",
    "    'cvec__max_features': [6_000, 7_000, 8_000, 9_000],\n",
    "    'cvec__min_df': [2, 3, 4],\n",
    "    'cvec__max_df': [.9, .95],\n",
    "    'cvec__ngram_range': [(1,1), (1,2)],\n",
    "    'cvec__stop_words': [None, 'english']}\n",
    "\n",
    "# instantiate grid search with the pipeline parameters and 5 folds\n",
    "gs = GridSearchCV(pipe, param_grid=pipe_params, cv=5)\n",
    "\n",
    "# fit the grid search on the train data\n",
    "gs.fit(X_train, y_train)\n",
    "\n",
    "# baseline score\n",
    "print(f'The baseline score to beat was {round(y.mean(),3)}')\n",
    "\n",
    "# train accuracy score from gridsearch\n",
    "print(f'The train accuracy score is {round(gs.score(X_train, y_train),3)}')\n",
    "\n",
    "# test accuracy score from gridsearch\n",
    "print(f'The test accuracy score is {round(gs.score(X_test, y_test),3)}')\n",
    "\n",
    "# predictions from the test \n",
    "preds = gs.predict(X_test)\n",
    "\n",
    "# set up confusion matrix\n",
    "tn, fp, fn, tp = confusion_matrix(y_test, preds).ravel()\n",
    "\n",
    "# plot confusion matrix \n",
    "plot_confusion_matrix(gs, X_test, y_test, cmap='Blues', values_format='d')\n",
    "plt.title('Confusion Matrix', size=15);"
   ]
  },
  {
   "cell_type": "markdown",
   "metadata": {},
   "source": [
    "# TFIDF - Multinomial Naive Bayes Estimator"
   ]
  },
  {
   "cell_type": "code",
   "execution_count": 781,
   "metadata": {},
   "outputs": [
    {
     "name": "stdout",
     "output_type": "stream",
     "text": [
      "The baseline score to beat was 0.524\n",
      "The train accuracy score is 0.921\n",
      "The test accuracy score is 0.827\n"
     ]
    },
    {
     "data": {
      "image/png": "[encoded data removed]",
      "text/plain": [
       "<Figure size 432x288 with 2 Axes>"
      ]
     },
     "metadata": {
      "needs_background": "light"
     },
     "output_type": "display_data"
    }
   ],
   "source": [
    "# Pipeline with transformer and estimator \n",
    "pipe_tfidf = Pipeline([\n",
    "    ('tfidf', TfidfVectorizer()),\n",
    "    ('nb', MultinomialNB())])\n",
    "\n",
    "# Parameters for Gridsearch\n",
    "pipe_tfidf_params = {\n",
    "    'tfidf__max_features': [6_000,7_000,8_000, 9_000],\n",
    "    'tfidf__stop_words': [None, 'english'],\n",
    "    'tfidf__ngram_range': [(1,1), (1,2)]}\n",
    "\n",
    "# Run and fit Gridsearch with pipeline and parameters\n",
    "gs_tfidf = GridSearchCV(pipe_tfidf, param_grid = pipe_tfidf_params, cv=5)\n",
    "gs_tfidf.fit(X_train, y_train)\n",
    "\n",
    "# baseline score\n",
    "print(f'The baseline score to beat was {round(y.mean(),3)}')\n",
    "\n",
    "# train accuracy score from gridsearch\n",
    "print(f'The train accuracy score is {round(gs_tfidf.score(X_train, y_train),3)}')\n",
    "\n",
    "# test accuracy score from gridsearch\n",
    "print(f'The test accuracy score is {round(gs_tfidf.score(X_test, y_test),3)}')\n",
    "\n",
    "# predictions from the test, set up confusion matrix, plot confusion matrix \n",
    "preds_tfidf = gs_tfidf.predict(X_test)\n",
    "tn, fp, fn, tp = confusion_matrix(y_test, preds_tfidf).ravel()\n",
    "plot_confusion_matrix(gs_tfidf, X_test, y_test, cmap='Blues', values_format='d')\n",
    "plt.title('Confusion Matrix', size=15);"
   ]
  },
  {
   "cell_type": "markdown",
   "metadata": {},
   "source": [
    "# CountVectorizer - Random Forest Estimator"
   ]
  },
  {
   "cell_type": "code",
   "execution_count": 798,
   "metadata": {},
   "outputs": [
    {
     "name": "stdout",
     "output_type": "stream",
     "text": [
      "The Training accuracy score is 0.823\n",
      "The Testing accuracy score is 0.784\n"
     ]
    },
    {
     "data": {
      "image/png": "[encoded data removed]",
      "text/plain": [
       "<Figure size 432x288 with 2 Axes>"
      ]
     },
     "metadata": {
      "needs_background": "light"
     },
     "output_type": "display_data"
    }
   ],
   "source": [
    "# Instantiate countvectorizer\n",
    "cv = CountVectorizer()\n",
    "\n",
    "# Transform and fit X_train and transform X_test\n",
    "X_train = cv.fit_transform(X_train)\n",
    "X_test = cv.transform(X_test)\n",
    "\n",
    "# Instantiate Random Forest Classifier\n",
    "forest = RandomForestClassifier()\n",
    "\n",
    "# Parameters for GridSearch\n",
    "forest_params = {\n",
    "      'bootstrap': [False],\n",
    "      'n_estimators': [500],\n",
    "      'max_depth': [80,90],\n",
    "      'max_features': ['sqrt'],\n",
    "      'min_samples_leaf': [5,10]}\n",
    "\n",
    "# Run and fit Gridsearch with Forest model and forest_params\n",
    "gs_rf = GridSearchCV(forest, param_grid=forest_params, cv=5, n_jobs=2)\n",
    "gs_rf.fit(X_train, y_train)\n",
    "\n",
    "# Print training accuracy score from Forest Gridsearch\n",
    "print(f'The Training accuracy score is {round(gs_rf.score(X_train, y_train),3)}')\n",
    "\n",
    "# Print testing accuracy score from Forest Gridsearch\n",
    "print(f'The Testing accuracy score is {round(gs_rf.score(X_test, y_test),3)}')\n",
    "\n",
    "# Predictions on X_test, set up confusion matrix, plot confusion matrix\n",
    "preds_rf = gs_rf.predict(X_test)\n",
    "tn, fp, fn, tp = confusion_matrix(y_test, preds_rf).ravel()\n",
    "plot_confusion_matrix(gs_rf, X_test, y_test, cmap='Blues')\n",
    "plt.title('Confusion Matrix', size=15);"
   ]
  },
  {
   "cell_type": "markdown",
   "metadata": {},
   "source": [
    "# TFIDF - Support Vector Machine (SVM)"
   ]
  },
  {
   "cell_type": "code",
   "execution_count": 675,
   "metadata": {},
   "outputs": [],
   "source": [
    "from sklearn.svm import SVC\n",
    "from sklearn.preprocessing import StandardScaler\n",
    "from sklearn.svm import LinearSVC\n",
    "import numpy as np"
   ]
  },
  {
   "cell_type": "code",
   "execution_count": 788,
   "metadata": {},
   "outputs": [
    {
     "name": "stdout",
     "output_type": "stream",
     "text": [
      "The Training accuracy score is 0.999\n",
      "The Testing accuracy score is 0.874\n"
     ]
    },
    {
     "data": {
      "image/png": "[encoded data removed]",
      "text/plain": [
       "<Figure size 432x288 with 2 Axes>"
      ]
     },
     "metadata": {
      "needs_background": "light"
     },
     "output_type": "display_data"
    }
   ],
   "source": [
    "X = onions['title']\n",
    "y = onions['subreddit']\n",
    "\n",
    "X_train, X_test, y_train, y_test = train_test_split(X,y,random_state=42)\n",
    "\n",
    "# Pipeline for SVC \n",
    "pipe_svc = Pipeline([\n",
    "    ('tfidf', TfidfVectorizer()),\n",
    "    ('svc', SVC())])\n",
    "\n",
    "# Parameters for SVC (after multiple gridsearches, settled on this combination)\n",
    "params_svc = {\n",
    "    'svc__kernel': ['rbf'],\n",
    "    'svc__C': [1.3333],\n",
    "    'svc__degree': [1]}\n",
    "\n",
    "gs_svc = GridSearchCV(pipe_svc, param_grid=params_svc, cv=5)\n",
    "\n",
    "gs_svc.fit(X_train,y_train)\n",
    "\n",
    "# Print training accuracy score from Forest Gridsearch\n",
    "print(f'The Training accuracy score is {round(gs_svc.score(X_train, y_train),3)}')\n",
    "\n",
    "# Print testing accuracy score from Forest Gridsearch\n",
    "print(f'The Testing accuracy score is {round(gs_svc.score(X_test, y_test),3)}')\n",
    "\n",
    "# Predictions, set up confusion matrix, and plot confusion matrix \n",
    "preds_svc = gs_svc.predict(X_test)\n",
    "tn, fp, fn, tp = confusion_matrix(y_test, preds_svc).ravel()\n",
    "plot_confusion_matrix(gs_svc, X_test, y_test, cmap='Blues')\n",
    "plt.title('Confusion Matrix', size=15);"
   ]
  },
  {
   "cell_type": "markdown",
   "metadata": {},
   "source": [
    "# Results"
   ]
  },
  {
   "cell_type": "code",
   "execution_count": 796,
   "metadata": {},
   "outputs": [
    {
     "data": {
      "text/html": [
       "<div>\n",
       "<style scoped>\n",
       "    .dataframe tbody tr th:only-of-type {\n",
       "        vertical-align: middle;\n",
       "    }\n",
       "\n",
       "    .dataframe tbody tr th {\n",
       "        vertical-align: top;\n",
       "    }\n",
       "\n",
       "    .dataframe thead th {\n",
       "        text-align: right;\n",
       "    }\n",
       "</style>\n",
       "<table border=\"1\" class=\"dataframe\">\n",
       "  <thead>\n",
       "    <tr style=\"text-align: right;\">\n",
       "      <th></th>\n",
       "      <th>predicted</th>\n",
       "      <th>actual</th>\n",
       "      <th>title</th>\n",
       "    </tr>\n",
       "  </thead>\n",
       "  <tbody>\n",
       "    <tr>\n",
       "      <th>3209</th>\n",
       "      <td>1</td>\n",
       "      <td>1</td>\n",
       "      <td>Tips For Going Through A Divorce</td>\n",
       "    </tr>\n",
       "    <tr>\n",
       "      <th>6303</th>\n",
       "      <td>0</td>\n",
       "      <td>0</td>\n",
       "      <td>Boxing event aimed at ending gun violence ends with Sacramento police fatally shooting man</td>\n",
       "    </tr>\n",
       "    <tr>\n",
       "      <th>7896</th>\n",
       "      <td>0</td>\n",
       "      <td>0</td>\n",
       "      <td>It's almost like internet isn't a thing</td>\n",
       "    </tr>\n",
       "    <tr>\n",
       "      <th>728</th>\n",
       "      <td>1</td>\n",
       "      <td>1</td>\n",
       "      <td>International Con Man Barack Obama Leaves U.S. With $85 Million In Campaign Fundraising (2008)</td>\n",
       "    </tr>\n",
       "    <tr>\n",
       "      <th>6448</th>\n",
       "      <td>0</td>\n",
       "      <td>0</td>\n",
       "      <td>Matthew Morrison to Ruin Christmas</td>\n",
       "    </tr>\n",
       "  </tbody>\n",
       "</table>\n",
       "</div>"
      ],
      "text/plain": [
       "      predicted  actual  \\\n",
       "3209          1       1   \n",
       "6303          0       0   \n",
       "7896          0       0   \n",
       "728           1       1   \n",
       "6448          0       0   \n",
       "\n",
       "                                                                                               title  \n",
       "3209                                                                Tips For Going Through A Divorce  \n",
       "6303      Boxing event aimed at ending gun violence ends with Sacramento police fatally shooting man  \n",
       "7896                                                         It's almost like internet isn't a thing  \n",
       "728   International Con Man Barack Obama Leaves U.S. With $85 Million In Campaign Fundraising (2008)  \n",
       "6448                                                              Matthew Morrison to Ruin Christmas  "
      ]
     },
     "execution_count": 796,
     "metadata": {},
     "output_type": "execute_result"
    }
   ],
   "source": [
    "# Create new datafram from predictions from best model (SVM-TFIDF)\n",
    "results = pd.DataFrame(gs_svc.predict(X), columns=['predicted'])\n",
    "results['actual'] = y\n",
    "results['title'] = onions['title']\n",
    "results.to_csv('results.csv')\n",
    "results.sample(5)"
   ]
  },
  {
   "cell_type": "code",
   "execution_count": 797,
   "metadata": {},
   "outputs": [
    {
     "data": {
      "text/html": [
       "<div>\n",
       "<style scoped>\n",
       "    .dataframe tbody tr th:only-of-type {\n",
       "        vertical-align: middle;\n",
       "    }\n",
       "\n",
       "    .dataframe tbody tr th {\n",
       "        vertical-align: top;\n",
       "    }\n",
       "\n",
       "    .dataframe thead th {\n",
       "        text-align: right;\n",
       "    }\n",
       "</style>\n",
       "<table border=\"1\" class=\"dataframe\">\n",
       "  <thead>\n",
       "    <tr style=\"text-align: right;\">\n",
       "      <th></th>\n",
       "      <th>predicted</th>\n",
       "      <th>actual</th>\n",
       "      <th>title</th>\n",
       "    </tr>\n",
       "  </thead>\n",
       "  <tbody>\n",
       "    <tr>\n",
       "      <th>19</th>\n",
       "      <td>0</td>\n",
       "      <td>1</td>\n",
       "      <td>The PS5 launch is rough</td>\n",
       "    </tr>\n",
       "    <tr>\n",
       "      <th>26</th>\n",
       "      <td>0</td>\n",
       "      <td>1</td>\n",
       "      <td>Vatican probing Pope Francis’ Instagram ‘liking’ racy photo</td>\n",
       "    </tr>\n",
       "    <tr>\n",
       "      <th>27</th>\n",
       "      <td>0</td>\n",
       "      <td>1</td>\n",
       "      <td>Vatican Launches Probe After Pope’s Insta Account Likes Very Risqué ‘School Girl’ Pic</td>\n",
       "    </tr>\n",
       "    <tr>\n",
       "      <th>37</th>\n",
       "      <td>0</td>\n",
       "      <td>1</td>\n",
       "      <td>When your video goes VIRAL and you get on the RADIO</td>\n",
       "    </tr>\n",
       "    <tr>\n",
       "      <th>41</th>\n",
       "      <td>0</td>\n",
       "      <td>1</td>\n",
       "      <td>The Must-Have Xbox Series X Launch Titles</td>\n",
       "    </tr>\n",
       "  </tbody>\n",
       "</table>\n",
       "</div>"
      ],
      "text/plain": [
       "    predicted  actual  \\\n",
       "19          0       1   \n",
       "26          0       1   \n",
       "27          0       1   \n",
       "37          0       1   \n",
       "41          0       1   \n",
       "\n",
       "                                                                                    title  \n",
       "19                                                                The PS5 launch is rough  \n",
       "26                            Vatican probing Pope Francis’ Instagram ‘liking’ racy photo  \n",
       "27  Vatican Launches Probe After Pope’s Insta Account Likes Very Risqué ‘School Girl’ Pic  \n",
       "37                                    When your video goes VIRAL and you get on the RADIO  \n",
       "41                                              The Must-Have Xbox Series X Launch Titles  "
      ]
     },
     "execution_count": 797,
     "metadata": {},
     "output_type": "execute_result"
    }
   ],
   "source": [
    "# Dataframe of posts that my model got incorrect\n",
    "incorrects = results[results['predicted'] != results['actual']]\n",
    "incorrects.to_csv('incorrect_predictions.csv')\n",
    "incorrects.head()"
   ]
  }
 ],
 "metadata": {
  "kernelspec": {
   "display_name": "Python [conda env:dsi] *",
   "language": "python",
   "name": "conda-env-dsi-py"
  },
  "language_info": {
   "codemirror_mode": {
    "name": "ipython",
    "version": 3
   },
   "file_extension": ".py",
   "mimetype": "text/x-python",
   "name": "python",
   "nbconvert_exporter": "python",
   "pygments_lexer": "ipython3",
   "version": "3.7.9"
  }
 },
 "nbformat": 4,
 "nbformat_minor": 4
}
